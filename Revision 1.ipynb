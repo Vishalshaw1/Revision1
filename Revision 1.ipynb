{
 "cells": [
  {
   "cell_type": "markdown",
   "id": "91dda87e-30ca-4d0e-9dfc-b74a84a85f7f",
   "metadata": {},
   "source": [
    "## we have to build a student database where in we will have\n",
    "    *student_id\n",
    "    *Gender\n",
    "    *Department\n",
    "    *Sessional_perc\n",
    "    *Final_sem Marks\n",
    "    *Backlogs "
   ]
  },
  {
   "cell_type": "code",
   "execution_count": 7,
   "id": "014e469e-41be-475c-ab60-b36a013c291b",
   "metadata": {},
   "outputs": [],
   "source": [
    "student_ids =['s01','s02','s03','s04','s05','s06']\n",
    "GENDER = ['M','M','F','M','F','M']\n",
    "dept = ['CS','ECE','ME','CS','CIVIL','ME']\n",
    "Sessional_perc = [35,67.9,59,49,95,75.4]\n",
    "total_marks = [988,568,657,658,746,985]\n",
    "backlogs = ['NB','B','B','NB','B','NB']"
   ]
  },
  {
   "cell_type": "markdown",
   "id": "7afc361d-420b-41bf-9ac3-2fecd20d52df",
   "metadata": {},
   "source": [
    "##If any studsent has recevied more than 70% in their sessional, increase the total marks by 2%"
   ]
  },
  {
   "cell_type": "code",
   "execution_count": 9,
   "id": "83b2ec0c-788c-4649-a29e-c519de4f6cd9",
   "metadata": {},
   "outputs": [
    {
     "data": {
      "text/plain": [
       "[0, 1, 2, 3, 4]"
      ]
     },
     "execution_count": 9,
     "metadata": {},
     "output_type": "execute_result"
    }
   ],
   "source": [
    "list(range(5))"
   ]
  },
  {
   "cell_type": "code",
   "execution_count": 11,
   "id": "10c61510-81b8-4042-aced-10241e7d274b",
   "metadata": {},
   "outputs": [
    {
     "data": {
      "text/plain": [
       "67.9"
      ]
     },
     "execution_count": 11,
     "metadata": {},
     "output_type": "execute_result"
    }
   ],
   "source": [
    "Sessional_perc[1]"
   ]
  },
  {
   "cell_type": "code",
   "execution_count": 13,
   "id": "eed294ec-ec26-4586-8728-d57897a2679b",
   "metadata": {},
   "outputs": [
    {
     "name": "stdout",
     "output_type": "stream",
     "text": [
      "Marks did not change\n",
      "Marks did not change\n",
      "Marks did not change\n",
      "Marks did not change\n"
     ]
    }
   ],
   "source": [
    "for i in range(len(student_ids)):\n",
    "    if Sessional_perc[i] > 70 :\n",
    "        total_marks[i] = total_marks[i] + total_marks[i]*0.02\n",
    "    else:\n",
    "        print('Marks did not change')"
   ]
  },
  {
   "cell_type": "markdown",
   "id": "4c9dba44-122e-4616-9bda-74525d9ef839",
   "metadata": {},
   "source": [
    "### S01 AND S04 have got Backlogs and we need to update them"
   ]
  },
  {
   "cell_type": "code",
   "execution_count": 16,
   "id": "8d911410-ccbc-4fdf-93b1-0ce9adb098dd",
   "metadata": {},
   "outputs": [
    {
     "name": "stdout",
     "output_type": "stream",
     "text": [
      "0\n",
      "1\n",
      "2\n",
      "3\n",
      "4\n",
      "5\n"
     ]
    }
   ],
   "source": [
    "updated_students = ['S02','S05']\n",
    "\n",
    "for i in range (len(student_ids)):\n",
    "    print(i)\n",
    "    if student_ids[i] in updated_students:\n",
    "        backlogs[i] = 'B'"
   ]
  },
  {
   "cell_type": "code",
   "execution_count": 17,
   "id": "0d2a8bf9-ed1a-4729-b0d9-aaf3aacff193",
   "metadata": {},
   "outputs": [
    {
     "data": {
      "text/plain": [
       "['NB', 'B', 'B', 'NB', 'B', 'NB']"
      ]
     },
     "execution_count": 17,
     "metadata": {},
     "output_type": "execute_result"
    }
   ],
   "source": [
    "backlogs"
   ]
  },
  {
   "cell_type": "markdown",
   "id": "e33a2571-2b47-4ab2-9bf9-9d3172066567",
   "metadata": {},
   "source": [
    "#### If a student's total marks is grater than 750 and they have no backlogs and they from cs dept, they will rece cive  a 'High Achiever Scholarship'.\n",
    "If a student has no backlogs and has marks between 650 and 700, they will receive 'Achiever Scholarship'"
   ]
  },
  {
   "cell_type": "code",
   "execution_count": 26,
   "id": "b88be97e-81a5-4f83-b257-c7aefab1bbcc",
   "metadata": {},
   "outputs": [
    {
     "data": {
      "text/plain": [
       "['CS', 'ECE', 'ME', 'CS', 'CIVIL', 'ME']"
      ]
     },
     "execution_count": 26,
     "metadata": {},
     "output_type": "execute_result"
    }
   ],
   "source": [
    "dept"
   ]
  },
  {
   "cell_type": "code",
   "execution_count": 29,
   "id": "6ad87147-fa84-4d89-b83d-fe2eba73e564",
   "metadata": {},
   "outputs": [],
   "source": [
    "dept[5] ='CS'"
   ]
  },
  {
   "cell_type": "code",
   "execution_count": 30,
   "id": "7d459628-7746-44ce-bb02-72a564ffbdbf",
   "metadata": {},
   "outputs": [
    {
     "data": {
      "text/plain": [
       "['CS', 'ECE', 'ME', 'CS', 'CIVIL', 'CS']"
      ]
     },
     "execution_count": 30,
     "metadata": {},
     "output_type": "execute_result"
    }
   ],
   "source": [
    "dept"
   ]
  },
  {
   "cell_type": "code",
   "execution_count": 31,
   "id": "dcc30585-aeec-4dad-bee9-0540871ccfe1",
   "metadata": {},
   "outputs": [
    {
     "data": {
      "text/plain": [
       "[988, 568, 657, 658, 746, 985]"
      ]
     },
     "execution_count": 31,
     "metadata": {},
     "output_type": "execute_result"
    }
   ],
   "source": [
    "total_marks"
   ]
  },
  {
   "cell_type": "code",
   "execution_count": 32,
   "id": "775d2ba1-2057-469e-a641-3b5bf988c7da",
   "metadata": {},
   "outputs": [
    {
     "data": {
      "text/plain": [
       "['NB', 'B', 'B', 'NB', 'B', 'NB']"
      ]
     },
     "execution_count": 32,
     "metadata": {},
     "output_type": "execute_result"
    }
   ],
   "source": [
    "backlogs"
   ]
  },
  {
   "cell_type": "code",
   "execution_count": 33,
   "id": "055ab148-26cf-431b-ac77-8f7b8414971d",
   "metadata": {},
   "outputs": [],
   "source": [
    "Scholarship = ['No scholarship'for _ in range (len(student_ids))]"
   ]
  },
  {
   "cell_type": "code",
   "execution_count": 34,
   "id": "be9af3da-8cb1-4c52-b24b-f211ffbd71ee",
   "metadata": {},
   "outputs": [
    {
     "data": {
      "text/plain": [
       "['No scholarship',\n",
       " 'No scholarship',\n",
       " 'No scholarship',\n",
       " 'No scholarship',\n",
       " 'No scholarship',\n",
       " 'No scholarship']"
      ]
     },
     "execution_count": 34,
     "metadata": {},
     "output_type": "execute_result"
    }
   ],
   "source": [
    "Scholarship"
   ]
  },
  {
   "cell_type": "code",
   "execution_count": 35,
   "id": "fcc54237-e8b0-4c0b-8c2b-c62a0c9115f9",
   "metadata": {},
   "outputs": [],
   "source": [
    "Scholarships =[]\n",
    "\n",
    "for _ in range(len(student_ids)):\n",
    "    Scholarships.append('No Scholarship')"
   ]
  },
  {
   "cell_type": "code",
   "execution_count": 36,
   "id": "3990156e-675f-4827-9a7d-f07bc48579c3",
   "metadata": {},
   "outputs": [
    {
     "data": {
      "text/plain": [
       "['No Scholarship',\n",
       " 'No Scholarship',\n",
       " 'No Scholarship',\n",
       " 'No Scholarship',\n",
       " 'No Scholarship',\n",
       " 'No Scholarship']"
      ]
     },
     "execution_count": 36,
     "metadata": {},
     "output_type": "execute_result"
    }
   ],
   "source": [
    "Scholarships"
   ]
  },
  {
   "cell_type": "code",
   "execution_count": 8,
   "id": "0f50cd8e-77cd-40ff-94ba-2b86b9546d91",
   "metadata": {},
   "outputs": [
    {
     "ename": "NameError",
     "evalue": "name 'student_ids' is not defined",
     "output_type": "error",
     "traceback": [
      "\u001b[0;31m---------------------------------------------------------------------------\u001b[0m",
      "\u001b[0;31mNameError\u001b[0m                                 Traceback (most recent call last)",
      "Cell \u001b[0;32mIn[8], line 1\u001b[0m\n\u001b[0;32m----> 1\u001b[0m \u001b[38;5;28;01mfor\u001b[39;00m i \u001b[38;5;129;01min\u001b[39;00m \u001b[38;5;28mrange\u001b[39m(\u001b[38;5;28mlen\u001b[39m(\u001b[43mstudent_ids\u001b[49m)):\n\u001b[1;32m      2\u001b[0m     \u001b[38;5;28;01mif\u001b[39;00m dept[i] \u001b[38;5;241m==\u001b[39m\u001b[38;5;124m'\u001b[39m\u001b[38;5;124mCS\u001b[39m\u001b[38;5;124m'\u001b[39m \u001b[38;5;129;01mand\u001b[39;00m total_marks[i] \u001b[38;5;241m>\u001b[39m\u001b[38;5;241m750\u001b[39m \u001b[38;5;129;01mand\u001b[39;00m backlogs[i] \u001b[38;5;241m==\u001b[39m \u001b[38;5;124m'\u001b[39m\u001b[38;5;124mNB\u001b[39m\u001b[38;5;124m'\u001b[39m:\n\u001b[1;32m      3\u001b[0m         Scholarships[i] \u001b[38;5;241m=\u001b[39m \u001b[38;5;124m'\u001b[39m\u001b[38;5;124mhigh Achiever Scholarship\u001b[39m\u001b[38;5;124m'\u001b[39m\n",
      "\u001b[0;31mNameError\u001b[0m: name 'student_ids' is not defined"
     ]
    }
   ],
   "source": [
    "for i in range(len(student_ids)):\n",
    "    if dept[i] =='CS' and total_marks[i] >750 and backlogs[i] == 'NB':\n",
    "        Scholarships[i] = 'high Achiever Scholarship'\n",
    "        print (\"High Achiever Scholarship awarded to {Student_ids[i]}\")\n",
    "        \n",
    "    elif backlogs[i] == 'NB' and (650<total_marks[i]<=750):\n",
    "        Scholarships[i] = 'Achiever Scholarship'\n",
    "    else:\n",
    "        print(' No scholarship were given')\n",
    "    "
   ]
  },
  {
   "cell_type": "code",
   "execution_count": null,
   "id": "84e0a4e8-cc15-48a9-8840-e6ce6c0aed05",
   "metadata": {},
   "outputs": [],
   "source": []
  }
 ],
 "metadata": {
  "kernelspec": {
   "display_name": "Python 3 (ipykernel)",
   "language": "python",
   "name": "python3"
  },
  "language_info": {
   "codemirror_mode": {
    "name": "ipython",
    "version": 3
   },
   "file_extension": ".py",
   "mimetype": "text/x-python",
   "name": "python",
   "nbconvert_exporter": "python",
   "pygments_lexer": "ipython3",
   "version": "3.10.8"
  }
 },
 "nbformat": 4,
 "nbformat_minor": 5
}
